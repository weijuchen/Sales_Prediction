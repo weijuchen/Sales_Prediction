{
 "cells": [
  {
   "cell_type": "code",
   "execution_count": 70,
   "id": "756cb147",
   "metadata": {},
   "outputs": [],
   "source": [
    "import numpy as np\n",
    "import pandas as pd\n",
    "\n",
    "import matplotlib.pyplot as plt\n",
    "%matplotlib inline\n",
    "\n",
    "\n",
    "\n",
    "from pandas import Series,DataFrame"
   ]
  },
  {
   "cell_type": "code",
   "execution_count": 71,
   "id": "80cca40c",
   "metadata": {},
   "outputs": [
    {
     "data": {
      "text/plain": [
       "Row ID            0\n",
       "Order ID          0\n",
       "Order Date_Ori    0\n",
       "Order Date        0\n",
       "Ship Date         0\n",
       "Ship Mode         0\n",
       "Customer ID       0\n",
       "Customer Name     0\n",
       "Segment           0\n",
       "Country           0\n",
       "City              0\n",
       "State             0\n",
       "Postal Code       0\n",
       "Region            0\n",
       "Product ID        0\n",
       "Category          0\n",
       "Sub-Category      0\n",
       "Product Name      0\n",
       "Sales             0\n",
       "Sales_num         0\n",
       "dtype: int64"
      ]
     },
     "execution_count": 71,
     "metadata": {},
     "output_type": "execute_result"
    }
   ],
   "source": [
    "# df = pd.read_csv(r'C:\\Users\\wei\\Downloads\\Sales_0625.csv',encoding='latin1')\n",
    "df = pd.read_csv(r'C:\\Users\\wei\\Downloads\\archive (4)\\Side Project\\train_BI_0701.csv',encoding='latin1')\n",
    "# \"C:\\Users\\wei\\Downloads\\archive (4)\\Side Project\\train_BI.csv\"\n",
    "# train_BI\n",
    "# train_data = pd.read_csv('train.csv')\n",
    "\n",
    "null_count=df.isnull().sum()\n",
    "null_count"
   ]
  },
  {
   "cell_type": "code",
   "execution_count": 72,
   "id": "6bc057b4",
   "metadata": {},
   "outputs": [],
   "source": [
    "df_sales=df"
   ]
  },
  {
   "cell_type": "code",
   "execution_count": 73,
   "id": "5745cfcb",
   "metadata": {},
   "outputs": [
    {
     "data": {
      "text/html": [
       "<div>\n",
       "<style scoped>\n",
       "    .dataframe tbody tr th:only-of-type {\n",
       "        vertical-align: middle;\n",
       "    }\n",
       "\n",
       "    .dataframe tbody tr th {\n",
       "        vertical-align: top;\n",
       "    }\n",
       "\n",
       "    .dataframe thead th {\n",
       "        text-align: right;\n",
       "    }\n",
       "</style>\n",
       "<table border=\"1\" class=\"dataframe\">\n",
       "  <thead>\n",
       "    <tr style=\"text-align: right;\">\n",
       "      <th></th>\n",
       "      <th>Row ID</th>\n",
       "      <th>Order ID</th>\n",
       "      <th>Order Date_Ori</th>\n",
       "      <th>Order Date</th>\n",
       "      <th>Ship Date</th>\n",
       "      <th>Ship Mode</th>\n",
       "      <th>Customer ID</th>\n",
       "      <th>Customer Name</th>\n",
       "      <th>Segment</th>\n",
       "      <th>Country</th>\n",
       "      <th>City</th>\n",
       "      <th>State</th>\n",
       "      <th>Postal Code</th>\n",
       "      <th>Region</th>\n",
       "      <th>Product ID</th>\n",
       "      <th>Category</th>\n",
       "      <th>Sub-Category</th>\n",
       "      <th>Product Name</th>\n",
       "      <th>Sales</th>\n",
       "      <th>Sales_num</th>\n",
       "    </tr>\n",
       "  </thead>\n",
       "  <tbody>\n",
       "    <tr>\n",
       "      <th>0</th>\n",
       "      <td>1</td>\n",
       "      <td>CA-2017-152156</td>\n",
       "      <td>08/11/2017</td>\n",
       "      <td>2017/11/8</td>\n",
       "      <td>11/11/2017</td>\n",
       "      <td>Second Class</td>\n",
       "      <td>CG-12520</td>\n",
       "      <td>Claire Gute</td>\n",
       "      <td>Consumer</td>\n",
       "      <td>United States</td>\n",
       "      <td>Henderson</td>\n",
       "      <td>Kentucky</td>\n",
       "      <td>42420</td>\n",
       "      <td>South</td>\n",
       "      <td>FUR-BO-10001798</td>\n",
       "      <td>Furniture</td>\n",
       "      <td>Bookcases</td>\n",
       "      <td>Bush Somerset Collection Bookcase</td>\n",
       "      <td>261.9600</td>\n",
       "      <td>261.96</td>\n",
       "    </tr>\n",
       "    <tr>\n",
       "      <th>1</th>\n",
       "      <td>2</td>\n",
       "      <td>CA-2017-152156</td>\n",
       "      <td>08/11/2017</td>\n",
       "      <td>2017/11/8</td>\n",
       "      <td>11/11/2017</td>\n",
       "      <td>Second Class</td>\n",
       "      <td>CG-12520</td>\n",
       "      <td>Claire Gute</td>\n",
       "      <td>Consumer</td>\n",
       "      <td>United States</td>\n",
       "      <td>Henderson</td>\n",
       "      <td>Kentucky</td>\n",
       "      <td>42420</td>\n",
       "      <td>South</td>\n",
       "      <td>FUR-CH-10000454</td>\n",
       "      <td>Furniture</td>\n",
       "      <td>Chairs</td>\n",
       "      <td>Hon Deluxe Fabric Upholstered Stacking Chairs,...</td>\n",
       "      <td>731.9400</td>\n",
       "      <td>731.94</td>\n",
       "    </tr>\n",
       "    <tr>\n",
       "      <th>2</th>\n",
       "      <td>3</td>\n",
       "      <td>CA-2017-138688</td>\n",
       "      <td>12/06/2017</td>\n",
       "      <td>2017/6/12</td>\n",
       "      <td>16/06/2017</td>\n",
       "      <td>Second Class</td>\n",
       "      <td>DV-13045</td>\n",
       "      <td>Darrin Van Huff</td>\n",
       "      <td>Corporate</td>\n",
       "      <td>United States</td>\n",
       "      <td>Los Angeles</td>\n",
       "      <td>California</td>\n",
       "      <td>90036</td>\n",
       "      <td>West</td>\n",
       "      <td>OFF-LA-10000240</td>\n",
       "      <td>Office Supplies</td>\n",
       "      <td>Labels</td>\n",
       "      <td>Self-Adhesive Address Labels for Typewriters b...</td>\n",
       "      <td>14.6200</td>\n",
       "      <td>14.62</td>\n",
       "    </tr>\n",
       "    <tr>\n",
       "      <th>3</th>\n",
       "      <td>4</td>\n",
       "      <td>US-2016-108966</td>\n",
       "      <td>11/10/2016</td>\n",
       "      <td>2016/10/11</td>\n",
       "      <td>18/10/2016</td>\n",
       "      <td>Standard Class</td>\n",
       "      <td>SO-20335</td>\n",
       "      <td>Sean O'Donnell</td>\n",
       "      <td>Consumer</td>\n",
       "      <td>United States</td>\n",
       "      <td>Fort Lauderdale</td>\n",
       "      <td>Florida</td>\n",
       "      <td>33311</td>\n",
       "      <td>South</td>\n",
       "      <td>FUR-TA-10000577</td>\n",
       "      <td>Furniture</td>\n",
       "      <td>Tables</td>\n",
       "      <td>Bretford CR4500 Series Slim Rectangular Table</td>\n",
       "      <td>957.5775</td>\n",
       "      <td>957.58</td>\n",
       "    </tr>\n",
       "    <tr>\n",
       "      <th>4</th>\n",
       "      <td>5</td>\n",
       "      <td>US-2016-108966</td>\n",
       "      <td>11/10/2016</td>\n",
       "      <td>2016/10/11</td>\n",
       "      <td>18/10/2016</td>\n",
       "      <td>Standard Class</td>\n",
       "      <td>SO-20335</td>\n",
       "      <td>Sean O'Donnell</td>\n",
       "      <td>Consumer</td>\n",
       "      <td>United States</td>\n",
       "      <td>Fort Lauderdale</td>\n",
       "      <td>Florida</td>\n",
       "      <td>33311</td>\n",
       "      <td>South</td>\n",
       "      <td>OFF-ST-10000760</td>\n",
       "      <td>Office Supplies</td>\n",
       "      <td>Storage</td>\n",
       "      <td>Eldon Fold 'N Roll Cart System</td>\n",
       "      <td>22.3680</td>\n",
       "      <td>22.37</td>\n",
       "    </tr>\n",
       "  </tbody>\n",
       "</table>\n",
       "</div>"
      ],
      "text/plain": [
       "   Row ID        Order ID Order Date_Ori  Order Date   Ship Date  \\\n",
       "0       1  CA-2017-152156     08/11/2017   2017/11/8  11/11/2017   \n",
       "1       2  CA-2017-152156     08/11/2017   2017/11/8  11/11/2017   \n",
       "2       3  CA-2017-138688     12/06/2017   2017/6/12  16/06/2017   \n",
       "3       4  US-2016-108966     11/10/2016  2016/10/11  18/10/2016   \n",
       "4       5  US-2016-108966     11/10/2016  2016/10/11  18/10/2016   \n",
       "\n",
       "        Ship Mode Customer ID    Customer Name    Segment        Country  \\\n",
       "0    Second Class    CG-12520      Claire Gute   Consumer  United States   \n",
       "1    Second Class    CG-12520      Claire Gute   Consumer  United States   \n",
       "2    Second Class    DV-13045  Darrin Van Huff  Corporate  United States   \n",
       "3  Standard Class    SO-20335   Sean O'Donnell   Consumer  United States   \n",
       "4  Standard Class    SO-20335   Sean O'Donnell   Consumer  United States   \n",
       "\n",
       "              City       State  Postal Code Region       Product ID  \\\n",
       "0        Henderson    Kentucky        42420  South  FUR-BO-10001798   \n",
       "1        Henderson    Kentucky        42420  South  FUR-CH-10000454   \n",
       "2      Los Angeles  California        90036   West  OFF-LA-10000240   \n",
       "3  Fort Lauderdale     Florida        33311  South  FUR-TA-10000577   \n",
       "4  Fort Lauderdale     Florida        33311  South  OFF-ST-10000760   \n",
       "\n",
       "          Category Sub-Category  \\\n",
       "0        Furniture    Bookcases   \n",
       "1        Furniture       Chairs   \n",
       "2  Office Supplies       Labels   \n",
       "3        Furniture       Tables   \n",
       "4  Office Supplies      Storage   \n",
       "\n",
       "                                        Product Name     Sales Sales_num  \n",
       "0                  Bush Somerset Collection Bookcase  261.9600    261.96  \n",
       "1  Hon Deluxe Fabric Upholstered Stacking Chairs,...  731.9400    731.94  \n",
       "2  Self-Adhesive Address Labels for Typewriters b...   14.6200     14.62  \n",
       "3      Bretford CR4500 Series Slim Rectangular Table  957.5775    957.58  \n",
       "4                     Eldon Fold 'N Roll Cart System   22.3680     22.37  "
      ]
     },
     "execution_count": 73,
     "metadata": {},
     "output_type": "execute_result"
    }
   ],
   "source": [
    "df_sales.head()"
   ]
  },
  {
   "cell_type": "code",
   "execution_count": 74,
   "id": "38e13e38",
   "metadata": {},
   "outputs": [],
   "source": [
    "df_sales=df_sales[['Order Date','Sales']]"
   ]
  },
  {
   "cell_type": "code",
   "execution_count": 75,
   "id": "bccc87d6",
   "metadata": {},
   "outputs": [
    {
     "data": {
      "text/html": [
       "<div>\n",
       "<style scoped>\n",
       "    .dataframe tbody tr th:only-of-type {\n",
       "        vertical-align: middle;\n",
       "    }\n",
       "\n",
       "    .dataframe tbody tr th {\n",
       "        vertical-align: top;\n",
       "    }\n",
       "\n",
       "    .dataframe thead th {\n",
       "        text-align: right;\n",
       "    }\n",
       "</style>\n",
       "<table border=\"1\" class=\"dataframe\">\n",
       "  <thead>\n",
       "    <tr style=\"text-align: right;\">\n",
       "      <th></th>\n",
       "      <th>Order Date</th>\n",
       "      <th>Sales</th>\n",
       "    </tr>\n",
       "  </thead>\n",
       "  <tbody>\n",
       "    <tr>\n",
       "      <th>0</th>\n",
       "      <td>2017/11/8</td>\n",
       "      <td>261.9600</td>\n",
       "    </tr>\n",
       "    <tr>\n",
       "      <th>1</th>\n",
       "      <td>2017/11/8</td>\n",
       "      <td>731.9400</td>\n",
       "    </tr>\n",
       "    <tr>\n",
       "      <th>2</th>\n",
       "      <td>2017/6/12</td>\n",
       "      <td>14.6200</td>\n",
       "    </tr>\n",
       "    <tr>\n",
       "      <th>3</th>\n",
       "      <td>2016/10/11</td>\n",
       "      <td>957.5775</td>\n",
       "    </tr>\n",
       "    <tr>\n",
       "      <th>4</th>\n",
       "      <td>2016/10/11</td>\n",
       "      <td>22.3680</td>\n",
       "    </tr>\n",
       "  </tbody>\n",
       "</table>\n",
       "</div>"
      ],
      "text/plain": [
       "   Order Date     Sales\n",
       "0   2017/11/8  261.9600\n",
       "1   2017/11/8  731.9400\n",
       "2   2017/6/12   14.6200\n",
       "3  2016/10/11  957.5775\n",
       "4  2016/10/11   22.3680"
      ]
     },
     "execution_count": 75,
     "metadata": {},
     "output_type": "execute_result"
    }
   ],
   "source": [
    "df_sales.head(5)"
   ]
  },
  {
   "cell_type": "code",
   "execution_count": 76,
   "id": "19284f79",
   "metadata": {},
   "outputs": [
    {
     "data": {
      "text/html": [
       "<div>\n",
       "<style scoped>\n",
       "    .dataframe tbody tr th:only-of-type {\n",
       "        vertical-align: middle;\n",
       "    }\n",
       "\n",
       "    .dataframe tbody tr th {\n",
       "        vertical-align: top;\n",
       "    }\n",
       "\n",
       "    .dataframe thead th {\n",
       "        text-align: right;\n",
       "    }\n",
       "</style>\n",
       "<table border=\"1\" class=\"dataframe\">\n",
       "  <thead>\n",
       "    <tr style=\"text-align: right;\">\n",
       "      <th></th>\n",
       "      <th>Order Date</th>\n",
       "      <th>Sales</th>\n",
       "    </tr>\n",
       "  </thead>\n",
       "  <tbody>\n",
       "    <tr>\n",
       "      <th>9692</th>\n",
       "      <td>2018/3/27</td>\n",
       "      <td>1023.332</td>\n",
       "    </tr>\n",
       "    <tr>\n",
       "      <th>9693</th>\n",
       "      <td>2018/3/27</td>\n",
       "      <td>600.558</td>\n",
       "    </tr>\n",
       "    <tr>\n",
       "      <th>9694</th>\n",
       "      <td>2018/3/27</td>\n",
       "      <td>39.992</td>\n",
       "    </tr>\n",
       "    <tr>\n",
       "      <th>9695</th>\n",
       "      <td>2018/3/27</td>\n",
       "      <td>211.246</td>\n",
       "    </tr>\n",
       "    <tr>\n",
       "      <th>9696</th>\n",
       "      <td>2015/5/21</td>\n",
       "      <td>56.064</td>\n",
       "    </tr>\n",
       "    <tr>\n",
       "      <th>9697</th>\n",
       "      <td>2015/5/21</td>\n",
       "      <td>107.772</td>\n",
       "    </tr>\n",
       "    <tr>\n",
       "      <th>9698</th>\n",
       "      <td>2016/1/12</td>\n",
       "      <td>10.368</td>\n",
       "    </tr>\n",
       "    <tr>\n",
       "      <th>9699</th>\n",
       "      <td>2016/1/12</td>\n",
       "      <td>235.188</td>\n",
       "    </tr>\n",
       "    <tr>\n",
       "      <th>9700</th>\n",
       "      <td>2016/1/12</td>\n",
       "      <td>26.376</td>\n",
       "    </tr>\n",
       "    <tr>\n",
       "      <th>9701</th>\n",
       "      <td>2016/1/12</td>\n",
       "      <td>10.384</td>\n",
       "    </tr>\n",
       "  </tbody>\n",
       "</table>\n",
       "</div>"
      ],
      "text/plain": [
       "     Order Date     Sales\n",
       "9692  2018/3/27  1023.332\n",
       "9693  2018/3/27   600.558\n",
       "9694  2018/3/27    39.992\n",
       "9695  2018/3/27   211.246\n",
       "9696  2015/5/21    56.064\n",
       "9697  2015/5/21   107.772\n",
       "9698  2016/1/12    10.368\n",
       "9699  2016/1/12   235.188\n",
       "9700  2016/1/12    26.376\n",
       "9701  2016/1/12    10.384"
      ]
     },
     "execution_count": 76,
     "metadata": {},
     "output_type": "execute_result"
    }
   ],
   "source": [
    "df_sales.tail(10)"
   ]
  },
  {
   "cell_type": "code",
   "execution_count": 77,
   "id": "0b58d69a",
   "metadata": {},
   "outputs": [
    {
     "name": "stdout",
     "output_type": "stream",
     "text": [
      "<class 'pandas.core.frame.DataFrame'>\n",
      "RangeIndex: 9702 entries, 0 to 9701\n",
      "Data columns (total 2 columns):\n",
      " #   Column      Non-Null Count  Dtype  \n",
      "---  ------      --------------  -----  \n",
      " 0   Order Date  9702 non-null   object \n",
      " 1   Sales       9702 non-null   float64\n",
      "dtypes: float64(1), object(1)\n",
      "memory usage: 151.7+ KB\n"
     ]
    }
   ],
   "source": [
    "df_sales.info()"
   ]
  },
  {
   "cell_type": "code",
   "execution_count": 78,
   "id": "cf14f271",
   "metadata": {},
   "outputs": [
    {
     "data": {
      "text/plain": [
       "(9702, 2)"
      ]
     },
     "execution_count": 78,
     "metadata": {},
     "output_type": "execute_result"
    }
   ],
   "source": [
    "df_sales.shape"
   ]
  },
  {
   "cell_type": "code",
   "execution_count": 79,
   "id": "2d76bfa6",
   "metadata": {},
   "outputs": [
    {
     "name": "stderr",
     "output_type": "stream",
     "text": [
      "C:\\Users\\wei\\AppData\\Local\\Temp\\ipykernel_1888\\3716585078.py:1: SettingWithCopyWarning: \n",
      "A value is trying to be set on a copy of a slice from a DataFrame.\n",
      "Try using .loc[row_indexer,col_indexer] = value instead\n",
      "\n",
      "See the caveats in the documentation: https://pandas.pydata.org/pandas-docs/stable/user_guide/indexing.html#returning-a-view-versus-a-copy\n",
      "  df_sales['Order Date'] = pd.to_datetime(df_sales['Order Date'])\n"
     ]
    }
   ],
   "source": [
    "df_sales['Order Date'] = pd.to_datetime(df_sales['Order Date'])\n",
    "# df_sales['Order Date'] = pd.to_datetime(df_sales['Order Date'], format='%Y/%m/%d')\n",
    "# 使用 pandas.to_datetime 將 'date_column' 轉換為 datetime 型態\n",
    "# df['date_column'] = pd.to_datetime(df['date_column'], format='%Y/%m/%d')\n",
    "# data['date'] = pd.to_datetime(data['release_date'], format='%b %d, %Y')\n"
   ]
  },
  {
   "cell_type": "code",
   "execution_count": 80,
   "id": "9544a54f",
   "metadata": {},
   "outputs": [],
   "source": [
    "df_sales.set_index('Order Date',inplace=True)"
   ]
  },
  {
   "cell_type": "code",
   "execution_count": 81,
   "id": "3f92a36c",
   "metadata": {},
   "outputs": [
    {
     "data": {
      "text/html": [
       "<div>\n",
       "<style scoped>\n",
       "    .dataframe tbody tr th:only-of-type {\n",
       "        vertical-align: middle;\n",
       "    }\n",
       "\n",
       "    .dataframe tbody tr th {\n",
       "        vertical-align: top;\n",
       "    }\n",
       "\n",
       "    .dataframe thead th {\n",
       "        text-align: right;\n",
       "    }\n",
       "</style>\n",
       "<table border=\"1\" class=\"dataframe\">\n",
       "  <thead>\n",
       "    <tr style=\"text-align: right;\">\n",
       "      <th></th>\n",
       "      <th>Sales</th>\n",
       "    </tr>\n",
       "    <tr>\n",
       "      <th>Order Date</th>\n",
       "      <th></th>\n",
       "    </tr>\n",
       "  </thead>\n",
       "  <tbody>\n",
       "    <tr>\n",
       "      <th>2017-11-08</th>\n",
       "      <td>261.9600</td>\n",
       "    </tr>\n",
       "    <tr>\n",
       "      <th>2017-11-08</th>\n",
       "      <td>731.9400</td>\n",
       "    </tr>\n",
       "    <tr>\n",
       "      <th>2017-06-12</th>\n",
       "      <td>14.6200</td>\n",
       "    </tr>\n",
       "    <tr>\n",
       "      <th>2016-10-11</th>\n",
       "      <td>957.5775</td>\n",
       "    </tr>\n",
       "    <tr>\n",
       "      <th>2016-10-11</th>\n",
       "      <td>22.3680</td>\n",
       "    </tr>\n",
       "  </tbody>\n",
       "</table>\n",
       "</div>"
      ],
      "text/plain": [
       "               Sales\n",
       "Order Date          \n",
       "2017-11-08  261.9600\n",
       "2017-11-08  731.9400\n",
       "2017-06-12   14.6200\n",
       "2016-10-11  957.5775\n",
       "2016-10-11   22.3680"
      ]
     },
     "execution_count": 81,
     "metadata": {},
     "output_type": "execute_result"
    }
   ],
   "source": [
    "df_sales.head()\n"
   ]
  },
  {
   "cell_type": "code",
   "execution_count": 82,
   "id": "5ee2da83",
   "metadata": {},
   "outputs": [
    {
     "name": "stdout",
     "output_type": "stream",
     "text": [
      "Sales    float64\n",
      "dtype: object\n"
     ]
    }
   ],
   "source": [
    "df_sales.tail()\n",
    "print(df_sales.dtypes)"
   ]
  },
  {
   "cell_type": "code",
   "execution_count": 83,
   "id": "90b63725",
   "metadata": {},
   "outputs": [
    {
     "name": "stdout",
     "output_type": "stream",
     "text": [
      "<class 'pandas.core.frame.DataFrame'>\n",
      "DatetimeIndex: 9702 entries, 2017-11-08 to 2016-01-12\n",
      "Data columns (total 1 columns):\n",
      " #   Column  Non-Null Count  Dtype  \n",
      "---  ------  --------------  -----  \n",
      " 0   Sales   9702 non-null   float64\n",
      "dtypes: float64(1)\n",
      "memory usage: 151.6 KB\n"
     ]
    }
   ],
   "source": [
    "df_sales.info()"
   ]
  },
  {
   "cell_type": "code",
   "execution_count": 84,
   "id": "6856baf2",
   "metadata": {},
   "outputs": [
    {
     "data": {
      "text/html": [
       "<div>\n",
       "<style scoped>\n",
       "    .dataframe tbody tr th:only-of-type {\n",
       "        vertical-align: middle;\n",
       "    }\n",
       "\n",
       "    .dataframe tbody tr th {\n",
       "        vertical-align: top;\n",
       "    }\n",
       "\n",
       "    .dataframe thead th {\n",
       "        text-align: right;\n",
       "    }\n",
       "</style>\n",
       "<table border=\"1\" class=\"dataframe\">\n",
       "  <thead>\n",
       "    <tr style=\"text-align: right;\">\n",
       "      <th></th>\n",
       "      <th>Sales</th>\n",
       "    </tr>\n",
       "  </thead>\n",
       "  <tbody>\n",
       "    <tr>\n",
       "      <th>count</th>\n",
       "      <td>9702.000000</td>\n",
       "    </tr>\n",
       "    <tr>\n",
       "      <th>mean</th>\n",
       "      <td>232.123316</td>\n",
       "    </tr>\n",
       "    <tr>\n",
       "      <th>std</th>\n",
       "      <td>629.471085</td>\n",
       "    </tr>\n",
       "    <tr>\n",
       "      <th>min</th>\n",
       "      <td>0.444000</td>\n",
       "    </tr>\n",
       "    <tr>\n",
       "      <th>25%</th>\n",
       "      <td>17.285000</td>\n",
       "    </tr>\n",
       "    <tr>\n",
       "      <th>50%</th>\n",
       "      <td>54.976000</td>\n",
       "    </tr>\n",
       "    <tr>\n",
       "      <th>75%</th>\n",
       "      <td>211.247500</td>\n",
       "    </tr>\n",
       "    <tr>\n",
       "      <th>max</th>\n",
       "      <td>22638.480000</td>\n",
       "    </tr>\n",
       "  </tbody>\n",
       "</table>\n",
       "</div>"
      ],
      "text/plain": [
       "              Sales\n",
       "count   9702.000000\n",
       "mean     232.123316\n",
       "std      629.471085\n",
       "min        0.444000\n",
       "25%       17.285000\n",
       "50%       54.976000\n",
       "75%      211.247500\n",
       "max    22638.480000"
      ]
     },
     "execution_count": 84,
     "metadata": {},
     "output_type": "execute_result"
    }
   ],
   "source": [
    "df_sales.describe()"
   ]
  },
  {
   "cell_type": "code",
   "execution_count": 85,
   "id": "b9f4692d",
   "metadata": {},
   "outputs": [
    {
     "data": {
      "text/plain": [
       "<Axes: xlabel='Order Date'>"
      ]
     },
     "execution_count": 85,
     "metadata": {},
     "output_type": "execute_result"
    },
    {
     "data": {
      "image/png": "[encoded data removed]",
      "text/plain": [
       "<Figure size 640x480 with 1 Axes>"
      ]
     },
     "metadata": {},
     "output_type": "display_data"
    }
   ],
   "source": [
    "df_sales.plot()\n"
   ]
  },
  {
   "cell_type": "code",
   "execution_count": 86,
   "id": "46bb7692",
   "metadata": {},
   "outputs": [],
   "source": [
    "### Testing For Stationarity\n",
    "\n",
    "from statsmodels.tsa.stattools import adfuller"
   ]
  },
  {
   "cell_type": "code",
   "execution_count": 87,
   "id": "a57455aa",
   "metadata": {},
   "outputs": [],
   "source": [
    "test_result=adfuller(df_sales['Sales'])"
   ]
  },
  {
   "cell_type": "code",
   "execution_count": 88,
   "id": "ffdac1a8",
   "metadata": {},
   "outputs": [],
   "source": [
    "def adfuller_test(sales):\n",
    "    result=adfuller(sales)\n",
    "    labels = ['ADF Test Statistic','p-value','#Lags Used','Number of Observations Used']\n",
    "    for value,label in zip(result,labels):\n",
    "        print(label+' : '+str(value) )\n",
    "    if result[1] <= 0.05:\n",
    "        print(\"strong evidence against the null hypothesis(Ho), reject the null hypothesis. Data has no unit root and is stationary\")\n",
    "    else:\n",
    "        print(\"weak evidence against null hypothesis, time series has a unit root, indicating it is non-stationary \")\n",
    "   \n"
   ]
  },
  {
   "cell_type": "code",
   "execution_count": 89,
   "id": "76cfbc87",
   "metadata": {},
   "outputs": [
    {
     "name": "stdout",
     "output_type": "stream",
     "text": [
      "ADF Test Statistic : -97.90248289041071\n",
      "p-value : 0.0\n",
      "#Lags Used : 0\n",
      "Number of Observations Used : 9701\n",
      "strong evidence against the null hypothesis(Ho), reject the null hypothesis. Data has no unit root and is stationary\n"
     ]
    }
   ],
   "source": [
    "adfuller_test(df['Sales'])"
   ]
  },
  {
   "cell_type": "code",
   "execution_count": 90,
   "id": "69667d0d",
   "metadata": {},
   "outputs": [],
   "source": [
    "from statsmodels.graphics.tsaplots import plot_acf,plot_pacf"
   ]
  },
  {
   "cell_type": "code",
   "execution_count": 91,
   "id": "3bb79a95",
   "metadata": {},
   "outputs": [
    {
     "name": "stdout",
     "output_type": "stream",
     "text": [
      "ADF Test Statistic : -97.90248289041071\n",
      "p-value : 0.0\n",
      "#Lags Used : 0\n",
      "Number of Observations Used : 9701\n",
      "strong evidence against the null hypothesis(Ho), reject the null hypothesis. Data has no unit root and is stationary\n"
     ]
    }
   ],
   "source": [
    "adfuller_test(df_sales['Sales'])"
   ]
  },
  {
   "cell_type": "code",
   "execution_count": 92,
   "id": "2e9fa18d",
   "metadata": {},
   "outputs": [],
   "source": [
    "from statsmodels.graphics.tsaplots import plot_acf,plot_pacf\n",
    "#Autocorrelation(plot_acf),Partial Autocorrelation(plot_pacf)\n",
    "import statsmodels.api as sm"
   ]
  },
  {
   "cell_type": "code",
   "execution_count": 93,
   "id": "cf2989a3",
   "metadata": {},
   "outputs": [
    {
     "data": {
      "text/html": [
       "<div>\n",
       "<style scoped>\n",
       "    .dataframe tbody tr th:only-of-type {\n",
       "        vertical-align: middle;\n",
       "    }\n",
       "\n",
       "    .dataframe tbody tr th {\n",
       "        vertical-align: top;\n",
       "    }\n",
       "\n",
       "    .dataframe thead th {\n",
       "        text-align: right;\n",
       "    }\n",
       "</style>\n",
       "<table border=\"1\" class=\"dataframe\">\n",
       "  <thead>\n",
       "    <tr style=\"text-align: right;\">\n",
       "      <th></th>\n",
       "      <th>Order Date</th>\n",
       "      <th>Sales</th>\n",
       "    </tr>\n",
       "  </thead>\n",
       "  <tbody>\n",
       "    <tr>\n",
       "      <th>0</th>\n",
       "      <td>2017/11/8</td>\n",
       "      <td>261.9600</td>\n",
       "    </tr>\n",
       "    <tr>\n",
       "      <th>1</th>\n",
       "      <td>2017/11/8</td>\n",
       "      <td>731.9400</td>\n",
       "    </tr>\n",
       "    <tr>\n",
       "      <th>2</th>\n",
       "      <td>2017/6/12</td>\n",
       "      <td>14.6200</td>\n",
       "    </tr>\n",
       "    <tr>\n",
       "      <th>3</th>\n",
       "      <td>2016/10/11</td>\n",
       "      <td>957.5775</td>\n",
       "    </tr>\n",
       "    <tr>\n",
       "      <th>4</th>\n",
       "      <td>2016/10/11</td>\n",
       "      <td>22.3680</td>\n",
       "    </tr>\n",
       "  </tbody>\n",
       "</table>\n",
       "</div>"
      ],
      "text/plain": [
       "   Order Date     Sales\n",
       "0   2017/11/8  261.9600\n",
       "1   2017/11/8  731.9400\n",
       "2   2017/6/12   14.6200\n",
       "3  2016/10/11  957.5775\n",
       "4  2016/10/11   22.3680"
      ]
     },
     "execution_count": 93,
     "metadata": {},
     "output_type": "execute_result"
    }
   ],
   "source": [
    "df_monthly=df.copy()\n",
    "\n",
    "df_monthly=df_monthly[['Order Date','Sales']]\n",
    "df_monthly.head(5)"
   ]
  },
  {
   "cell_type": "code",
   "execution_count": 94,
   "id": "4eeef90d",
   "metadata": {},
   "outputs": [
    {
     "data": {
      "text/html": [
       "<div>\n",
       "<style scoped>\n",
       "    .dataframe tbody tr th:only-of-type {\n",
       "        vertical-align: middle;\n",
       "    }\n",
       "\n",
       "    .dataframe tbody tr th {\n",
       "        vertical-align: top;\n",
       "    }\n",
       "\n",
       "    .dataframe thead th {\n",
       "        text-align: right;\n",
       "    }\n",
       "</style>\n",
       "<table border=\"1\" class=\"dataframe\">\n",
       "  <thead>\n",
       "    <tr style=\"text-align: right;\">\n",
       "      <th></th>\n",
       "      <th>Order Date</th>\n",
       "      <th>Sales</th>\n",
       "    </tr>\n",
       "  </thead>\n",
       "  <tbody>\n",
       "    <tr>\n",
       "      <th>0</th>\n",
       "      <td>2017-11-08</td>\n",
       "      <td>261.9600</td>\n",
       "    </tr>\n",
       "    <tr>\n",
       "      <th>1</th>\n",
       "      <td>2017-11-08</td>\n",
       "      <td>731.9400</td>\n",
       "    </tr>\n",
       "    <tr>\n",
       "      <th>2</th>\n",
       "      <td>2017-06-12</td>\n",
       "      <td>14.6200</td>\n",
       "    </tr>\n",
       "    <tr>\n",
       "      <th>3</th>\n",
       "      <td>2016-10-11</td>\n",
       "      <td>957.5775</td>\n",
       "    </tr>\n",
       "    <tr>\n",
       "      <th>4</th>\n",
       "      <td>2016-10-11</td>\n",
       "      <td>22.3680</td>\n",
       "    </tr>\n",
       "  </tbody>\n",
       "</table>\n",
       "</div>"
      ],
      "text/plain": [
       "  Order Date     Sales\n",
       "0 2017-11-08  261.9600\n",
       "1 2017-11-08  731.9400\n",
       "2 2017-06-12   14.6200\n",
       "3 2016-10-11  957.5775\n",
       "4 2016-10-11   22.3680"
      ]
     },
     "execution_count": 94,
     "metadata": {},
     "output_type": "execute_result"
    }
   ],
   "source": [
    "df_monthly['Order Date'] = pd.to_datetime(df_monthly['Order Date'])\n",
    "\n",
    "df_monthly.head(5)\n",
    "# df_copy['Order Date'] = pd.to_datetime(df_copy['Order Date'])\n",
    "# df_copy.set_index('Order Date', inplace=True)\n",
    "\n",
    "# # Resample the data to monthly frequency and sum the sales for each month in the copy\n",
    "# df_monthly = df_copy['Sales'].resample('M').sum()"
   ]
  },
  {
   "cell_type": "code",
   "execution_count": 95,
   "id": "61fed043",
   "metadata": {},
   "outputs": [
    {
     "name": "stdout",
     "output_type": "stream",
     "text": [
      "<class 'pandas.core.frame.DataFrame'>\n",
      "RangeIndex: 9702 entries, 0 to 9701\n",
      "Data columns (total 2 columns):\n",
      " #   Column      Non-Null Count  Dtype         \n",
      "---  ------      --------------  -----         \n",
      " 0   Order Date  9702 non-null   datetime64[ns]\n",
      " 1   Sales       9702 non-null   float64       \n",
      "dtypes: datetime64[ns](1), float64(1)\n",
      "memory usage: 151.7 KB\n"
     ]
    }
   ],
   "source": [
    "df_monthly.info()"
   ]
  },
  {
   "cell_type": "code",
   "execution_count": 99,
   "id": "f690de6f",
   "metadata": {},
   "outputs": [
    {
     "data": {
      "text/html": [
       "<div>\n",
       "<style scoped>\n",
       "    .dataframe tbody tr th:only-of-type {\n",
       "        vertical-align: middle;\n",
       "    }\n",
       "\n",
       "    .dataframe tbody tr th {\n",
       "        vertical-align: top;\n",
       "    }\n",
       "\n",
       "    .dataframe thead th {\n",
       "        text-align: right;\n",
       "    }\n",
       "</style>\n",
       "<table border=\"1\" class=\"dataframe\">\n",
       "  <thead>\n",
       "    <tr style=\"text-align: right;\">\n",
       "      <th></th>\n",
       "      <th>Sales</th>\n",
       "    </tr>\n",
       "    <tr>\n",
       "      <th>Order Date</th>\n",
       "      <th></th>\n",
       "    </tr>\n",
       "  </thead>\n",
       "  <tbody>\n",
       "    <tr>\n",
       "      <th>2017-11-08</th>\n",
       "      <td>261.9600</td>\n",
       "    </tr>\n",
       "    <tr>\n",
       "      <th>2017-11-08</th>\n",
       "      <td>731.9400</td>\n",
       "    </tr>\n",
       "    <tr>\n",
       "      <th>2017-06-12</th>\n",
       "      <td>14.6200</td>\n",
       "    </tr>\n",
       "    <tr>\n",
       "      <th>2016-10-11</th>\n",
       "      <td>957.5775</td>\n",
       "    </tr>\n",
       "    <tr>\n",
       "      <th>2016-10-11</th>\n",
       "      <td>22.3680</td>\n",
       "    </tr>\n",
       "  </tbody>\n",
       "</table>\n",
       "</div>"
      ],
      "text/plain": [
       "               Sales\n",
       "Order Date          \n",
       "2017-11-08  261.9600\n",
       "2017-11-08  731.9400\n",
       "2017-06-12   14.6200\n",
       "2016-10-11  957.5775\n",
       "2016-10-11   22.3680"
      ]
     },
     "execution_count": 99,
     "metadata": {},
     "output_type": "execute_result"
    }
   ],
   "source": [
    "df_monthly.set_index('Order Date',inplace=True)\n",
    "df_monthly.head()\n",
    "# df_monthly_sales = df_monthly['Sales'].resample('M').sum()\n",
    "# df_monthly_sales.head(5)\n",
    "\n",
    "# Resample the data to monthly frequency and sum the sales for each month in the copy\n",
    "\n",
    "\n",
    "# df_monthly_sales_1 = df_monthly_sales['Sales'].resample('M').sum()\n",
    "# df_monthly_sales_1.head(5)"
   ]
  },
  {
   "cell_type": "code",
   "execution_count": 100,
   "id": "f33cc3ad",
   "metadata": {},
   "outputs": [
    {
     "name": "stdout",
     "output_type": "stream",
     "text": [
      "<class 'pandas.core.frame.DataFrame'>\n",
      "DatetimeIndex: 9702 entries, 2017-11-08 to 2016-01-12\n",
      "Data columns (total 1 columns):\n",
      " #   Column  Non-Null Count  Dtype  \n",
      "---  ------  --------------  -----  \n",
      " 0   Sales   9702 non-null   float64\n",
      "dtypes: float64(1)\n",
      "memory usage: 151.6 KB\n"
     ]
    }
   ],
   "source": [
    "df_monthly.info()"
   ]
  },
  {
   "cell_type": "code",
   "execution_count": 101,
   "id": "9f08cb79",
   "metadata": {},
   "outputs": [
    {
     "data": {
      "text/plain": [
       "Order Date\n",
       "2015-01-31    14205.707\n",
       "2015-02-28     4503.716\n",
       "2015-03-31    55049.657\n",
       "2015-04-30    27906.855\n",
       "2015-05-31    23564.831\n",
       "Freq: M, Name: Sales, dtype: float64"
      ]
     },
     "execution_count": 101,
     "metadata": {},
     "output_type": "execute_result"
    }
   ],
   "source": [
    "\n",
    "df_Monthly_Sales = df_monthly['Sales'].resample('M').sum()\n",
    "df_Monthly_Sales.head()\n",
    "# # Create a copy of the DataFrame to preserve the original data\n",
    "# df_copy = df.copy()\n",
    "\n",
    "# # Convert the 'Order Date' column to datetime and set it as the index in the copy\n",
    "# df_copy['Order Date'] = pd.to_datetime(df_copy['Order Date'])\n",
    "# df_copy.set_index('Order Date', inplace=True)\n",
    "\n",
    "# # Resample the data to monthly frequency and sum the sales for each month in the copy\n",
    "# df_monthly = df_copy['Sales'].resample('M').sum()\n"
   ]
  },
  {
   "cell_type": "code",
   "execution_count": 102,
   "id": "3833c8ab",
   "metadata": {},
   "outputs": [
    {
     "name": "stdout",
     "output_type": "stream",
     "text": [
      "<class 'pandas.core.series.Series'>\n",
      "DatetimeIndex: 48 entries, 2015-01-31 to 2018-12-31\n",
      "Freq: M\n",
      "Series name: Sales\n",
      "Non-Null Count  Dtype  \n",
      "--------------  -----  \n",
      "48 non-null     float64\n",
      "dtypes: float64(1)\n",
      "memory usage: 768.0 bytes\n"
     ]
    }
   ],
   "source": [
    "df_Monthly_Sales.info()"
   ]
  },
  {
   "cell_type": "code",
   "execution_count": 41,
   "id": "e7a9e979",
   "metadata": {},
   "outputs": [
    {
     "data": {
      "image/png": "[encoded data removed]",
      "text/plain": [
       "<Figure size 1200x800 with 2 Axes>"
      ]
     },
     "metadata": {},
     "output_type": "display_data"
    }
   ],
   "source": [
    "fig, (ax1, ax2) = plt.subplots(2, 1, figsize=(12, 8))\n",
    "plot_acf(df_Monthly_Sales, lags=22, ax=ax1)\n",
    "plot_pacf(df_Monthly_Sales, lags=22, ax=ax2)\n",
    "\n",
    "plt.show()\n"
   ]
  },
  {
   "cell_type": "code",
   "execution_count": 103,
   "id": "7f461ffb",
   "metadata": {},
   "outputs": [],
   "source": [
    "# For non-seasonal data\n",
    "#p=12, d=1, q=12 \n",
    "from statsmodels.tsa.arima.model import ARIMA\n",
    "# from statsmodels.tsa.arima_model import ARIMA"
   ]
  },
  {
   "cell_type": "code",
   "execution_count": 104,
   "id": "da899b60",
   "metadata": {},
   "outputs": [
    {
     "name": "stderr",
     "output_type": "stream",
     "text": [
      "C:\\Users\\wei\\anaconda3\\lib\\site-packages\\statsmodels\\tsa\\statespace\\sarimax.py:966: UserWarning: Non-stationary starting autoregressive parameters found. Using zeros as starting parameters.\n",
      "  warn('Non-stationary starting autoregressive parameters'\n",
      "C:\\Users\\wei\\anaconda3\\lib\\site-packages\\statsmodels\\base\\model.py:607: ConvergenceWarning: Maximum Likelihood optimization failed to converge. Check mle_retvals\n",
      "  warnings.warn(\"Maximum Likelihood optimization failed to \"\n"
     ]
    }
   ],
   "source": [
    "model=ARIMA(df_Monthly_Sales,order=(12,1,12))\n",
    "model_fit=model.fit()"
   ]
  },
  {
   "cell_type": "code",
   "execution_count": 105,
   "id": "fb23cef7",
   "metadata": {},
   "outputs": [
    {
     "data": {
      "text/html": [
       "<table class=\"simpletable\">\n",
       "<caption>SARIMAX Results</caption>\n",
       "<tr>\n",
       "  <th>Dep. Variable:</th>         <td>Sales</td>      <th>  No. Observations:  </th>    <td>48</td>   \n",
       "</tr>\n",
       "<tr>\n",
       "  <th>Model:</th>           <td>ARIMA(12, 1, 12)</td> <th>  Log Likelihood     </th> <td>-533.131</td>\n",
       "</tr>\n",
       "<tr>\n",
       "  <th>Date:</th>            <td>Tue, 02 Jul 2024</td> <th>  AIC                </th> <td>1116.263</td>\n",
       "</tr>\n",
       "<tr>\n",
       "  <th>Time:</th>                <td>11:54:46</td>     <th>  BIC                </th> <td>1162.516</td>\n",
       "</tr>\n",
       "<tr>\n",
       "  <th>Sample:</th>             <td>01-31-2015</td>    <th>  HQIC               </th> <td>1133.668</td>\n",
       "</tr>\n",
       "<tr>\n",
       "  <th></th>                   <td>- 12-31-2018</td>   <th>                     </th>     <td> </td>   \n",
       "</tr>\n",
       "<tr>\n",
       "  <th>Covariance Type:</th>        <td>opg</td>       <th>                     </th>     <td> </td>   \n",
       "</tr>\n",
       "</table>\n",
       "<table class=\"simpletable\">\n",
       "<tr>\n",
       "     <td></td>       <th>coef</th>     <th>std err</th>      <th>z</th>      <th>P>|z|</th>  <th>[0.025</th>    <th>0.975]</th>  \n",
       "</tr>\n",
       "<tr>\n",
       "  <th>ar.L1</th>  <td>    0.0852</td> <td>    4.588</td> <td>    0.019</td> <td> 0.985</td> <td>   -8.908</td> <td>    9.078</td>\n",
       "</tr>\n",
       "<tr>\n",
       "  <th>ar.L2</th>  <td>   -0.1699</td> <td>    3.931</td> <td>   -0.043</td> <td> 0.966</td> <td>   -7.875</td> <td>    7.535</td>\n",
       "</tr>\n",
       "<tr>\n",
       "  <th>ar.L3</th>  <td>    0.1021</td> <td>    4.552</td> <td>    0.022</td> <td> 0.982</td> <td>   -8.820</td> <td>    9.024</td>\n",
       "</tr>\n",
       "<tr>\n",
       "  <th>ar.L4</th>  <td>   -0.2856</td> <td>    3.160</td> <td>   -0.090</td> <td> 0.928</td> <td>   -6.479</td> <td>    5.908</td>\n",
       "</tr>\n",
       "<tr>\n",
       "  <th>ar.L5</th>  <td>    0.1236</td> <td>    4.126</td> <td>    0.030</td> <td> 0.976</td> <td>   -7.964</td> <td>    8.211</td>\n",
       "</tr>\n",
       "<tr>\n",
       "  <th>ar.L6</th>  <td>    0.1697</td> <td>    4.150</td> <td>    0.041</td> <td> 0.967</td> <td>   -7.963</td> <td>    8.303</td>\n",
       "</tr>\n",
       "<tr>\n",
       "  <th>ar.L7</th>  <td>   -0.1385</td> <td>    3.538</td> <td>   -0.039</td> <td> 0.969</td> <td>   -7.074</td> <td>    6.797</td>\n",
       "</tr>\n",
       "<tr>\n",
       "  <th>ar.L8</th>  <td>    0.1374</td> <td>    3.531</td> <td>    0.039</td> <td> 0.969</td> <td>   -6.784</td> <td>    7.059</td>\n",
       "</tr>\n",
       "<tr>\n",
       "  <th>ar.L9</th>  <td>   -0.1913</td> <td>    3.473</td> <td>   -0.055</td> <td> 0.956</td> <td>   -6.998</td> <td>    6.615</td>\n",
       "</tr>\n",
       "<tr>\n",
       "  <th>ar.L10</th> <td>    0.1090</td> <td>    4.519</td> <td>    0.024</td> <td> 0.981</td> <td>   -8.748</td> <td>    8.966</td>\n",
       "</tr>\n",
       "<tr>\n",
       "  <th>ar.L11</th> <td>   -0.2449</td> <td>    3.034</td> <td>   -0.081</td> <td> 0.936</td> <td>   -6.191</td> <td>    5.701</td>\n",
       "</tr>\n",
       "<tr>\n",
       "  <th>ar.L12</th> <td>    0.5225</td> <td>    2.954</td> <td>    0.177</td> <td> 0.860</td> <td>   -5.266</td> <td>    6.311</td>\n",
       "</tr>\n",
       "<tr>\n",
       "  <th>ma.L1</th>  <td>   -0.6235</td> <td>    4.925</td> <td>   -0.127</td> <td> 0.899</td> <td>  -10.277</td> <td>    9.030</td>\n",
       "</tr>\n",
       "<tr>\n",
       "  <th>ma.L2</th>  <td>    0.1207</td> <td>    2.553</td> <td>    0.047</td> <td> 0.962</td> <td>   -4.883</td> <td>    5.125</td>\n",
       "</tr>\n",
       "<tr>\n",
       "  <th>ma.L3</th>  <td>   -0.1047</td> <td>    3.429</td> <td>   -0.031</td> <td> 0.976</td> <td>   -6.825</td> <td>    6.616</td>\n",
       "</tr>\n",
       "<tr>\n",
       "  <th>ma.L4</th>  <td>    0.1143</td> <td>    2.503</td> <td>    0.046</td> <td> 0.964</td> <td>   -4.792</td> <td>    5.020</td>\n",
       "</tr>\n",
       "<tr>\n",
       "  <th>ma.L5</th>  <td>   -0.3837</td> <td>    3.443</td> <td>   -0.111</td> <td> 0.911</td> <td>   -7.132</td> <td>    6.365</td>\n",
       "</tr>\n",
       "<tr>\n",
       "  <th>ma.L6</th>  <td>   -0.0797</td> <td>    2.927</td> <td>   -0.027</td> <td> 0.978</td> <td>   -5.817</td> <td>    5.658</td>\n",
       "</tr>\n",
       "<tr>\n",
       "  <th>ma.L7</th>  <td>    0.1271</td> <td>    1.898</td> <td>    0.067</td> <td> 0.947</td> <td>   -3.593</td> <td>    3.847</td>\n",
       "</tr>\n",
       "<tr>\n",
       "  <th>ma.L8</th>  <td>   -0.0298</td> <td>    2.695</td> <td>   -0.011</td> <td> 0.991</td> <td>   -5.311</td> <td>    5.251</td>\n",
       "</tr>\n",
       "<tr>\n",
       "  <th>ma.L9</th>  <td>    0.0173</td> <td>    4.213</td> <td>    0.004</td> <td> 0.997</td> <td>   -8.241</td> <td>    8.275</td>\n",
       "</tr>\n",
       "<tr>\n",
       "  <th>ma.L10</th> <td>    0.0026</td> <td>    2.743</td> <td>    0.001</td> <td> 0.999</td> <td>   -5.374</td> <td>    5.379</td>\n",
       "</tr>\n",
       "<tr>\n",
       "  <th>ma.L11</th> <td>    0.2314</td> <td>    3.272</td> <td>    0.071</td> <td> 0.944</td> <td>   -6.182</td> <td>    6.645</td>\n",
       "</tr>\n",
       "<tr>\n",
       "  <th>ma.L12</th> <td>   -0.1319</td> <td>    2.622</td> <td>   -0.050</td> <td> 0.960</td> <td>   -5.271</td> <td>    5.007</td>\n",
       "</tr>\n",
       "<tr>\n",
       "  <th>sigma2</th> <td> 7.268e+08</td> <td> 1.35e-07</td> <td> 5.38e+15</td> <td> 0.000</td> <td> 7.27e+08</td> <td> 7.27e+08</td>\n",
       "</tr>\n",
       "</table>\n",
       "<table class=\"simpletable\">\n",
       "<tr>\n",
       "  <th>Ljung-Box (L1) (Q):</th>     <td>0.07</td> <th>  Jarque-Bera (JB):  </th> <td>1.08</td>\n",
       "</tr>\n",
       "<tr>\n",
       "  <th>Prob(Q):</th>                <td>0.80</td> <th>  Prob(JB):          </th> <td>0.58</td>\n",
       "</tr>\n",
       "<tr>\n",
       "  <th>Heteroskedasticity (H):</th> <td>0.55</td> <th>  Skew:              </th> <td>0.33</td>\n",
       "</tr>\n",
       "<tr>\n",
       "  <th>Prob(H) (two-sided):</th>    <td>0.24</td> <th>  Kurtosis:          </th> <td>2.67</td>\n",
       "</tr>\n",
       "</table><br/><br/>Warnings:<br/>[1] Covariance matrix calculated using the outer product of gradients (complex-step).<br/>[2] Covariance matrix is singular or near-singular, with condition number 2.91e+32. Standard errors may be unstable."
      ],
      "text/latex": [
       "\\begin{center}\n",
       "\\begin{tabular}{lclc}\n",
       "\\toprule\n",
       "\\textbf{Dep. Variable:}          &      Sales       & \\textbf{  No. Observations:  } &     48      \\\\\n",
       "\\textbf{Model:}                  & ARIMA(12, 1, 12) & \\textbf{  Log Likelihood     } &  -533.131   \\\\\n",
       "\\textbf{Date:}                   & Tue, 02 Jul 2024 & \\textbf{  AIC                } &  1116.263   \\\\\n",
       "\\textbf{Time:}                   &     11:54:46     & \\textbf{  BIC                } &  1162.516   \\\\\n",
       "\\textbf{Sample:}                 &    01-31-2015    & \\textbf{  HQIC               } &  1133.668   \\\\\n",
       "\\textbf{}                        &   - 12-31-2018   & \\textbf{                     } &             \\\\\n",
       "\\textbf{Covariance Type:}        &       opg        & \\textbf{                     } &             \\\\\n",
       "\\bottomrule\n",
       "\\end{tabular}\n",
       "\\begin{tabular}{lcccccc}\n",
       "                & \\textbf{coef} & \\textbf{std err} & \\textbf{z} & \\textbf{P$> |$z$|$} & \\textbf{[0.025} & \\textbf{0.975]}  \\\\\n",
       "\\midrule\n",
       "\\textbf{ar.L1}  &       0.0852  &        4.588     &     0.019  &         0.985        &       -8.908    &        9.078     \\\\\n",
       "\\textbf{ar.L2}  &      -0.1699  &        3.931     &    -0.043  &         0.966        &       -7.875    &        7.535     \\\\\n",
       "\\textbf{ar.L3}  &       0.1021  &        4.552     &     0.022  &         0.982        &       -8.820    &        9.024     \\\\\n",
       "\\textbf{ar.L4}  &      -0.2856  &        3.160     &    -0.090  &         0.928        &       -6.479    &        5.908     \\\\\n",
       "\\textbf{ar.L5}  &       0.1236  &        4.126     &     0.030  &         0.976        &       -7.964    &        8.211     \\\\\n",
       "\\textbf{ar.L6}  &       0.1697  &        4.150     &     0.041  &         0.967        &       -7.963    &        8.303     \\\\\n",
       "\\textbf{ar.L7}  &      -0.1385  &        3.538     &    -0.039  &         0.969        &       -7.074    &        6.797     \\\\\n",
       "\\textbf{ar.L8}  &       0.1374  &        3.531     &     0.039  &         0.969        &       -6.784    &        7.059     \\\\\n",
       "\\textbf{ar.L9}  &      -0.1913  &        3.473     &    -0.055  &         0.956        &       -6.998    &        6.615     \\\\\n",
       "\\textbf{ar.L10} &       0.1090  &        4.519     &     0.024  &         0.981        &       -8.748    &        8.966     \\\\\n",
       "\\textbf{ar.L11} &      -0.2449  &        3.034     &    -0.081  &         0.936        &       -6.191    &        5.701     \\\\\n",
       "\\textbf{ar.L12} &       0.5225  &        2.954     &     0.177  &         0.860        &       -5.266    &        6.311     \\\\\n",
       "\\textbf{ma.L1}  &      -0.6235  &        4.925     &    -0.127  &         0.899        &      -10.277    &        9.030     \\\\\n",
       "\\textbf{ma.L2}  &       0.1207  &        2.553     &     0.047  &         0.962        &       -4.883    &        5.125     \\\\\n",
       "\\textbf{ma.L3}  &      -0.1047  &        3.429     &    -0.031  &         0.976        &       -6.825    &        6.616     \\\\\n",
       "\\textbf{ma.L4}  &       0.1143  &        2.503     &     0.046  &         0.964        &       -4.792    &        5.020     \\\\\n",
       "\\textbf{ma.L5}  &      -0.3837  &        3.443     &    -0.111  &         0.911        &       -7.132    &        6.365     \\\\\n",
       "\\textbf{ma.L6}  &      -0.0797  &        2.927     &    -0.027  &         0.978        &       -5.817    &        5.658     \\\\\n",
       "\\textbf{ma.L7}  &       0.1271  &        1.898     &     0.067  &         0.947        &       -3.593    &        3.847     \\\\\n",
       "\\textbf{ma.L8}  &      -0.0298  &        2.695     &    -0.011  &         0.991        &       -5.311    &        5.251     \\\\\n",
       "\\textbf{ma.L9}  &       0.0173  &        4.213     &     0.004  &         0.997        &       -8.241    &        8.275     \\\\\n",
       "\\textbf{ma.L10} &       0.0026  &        2.743     &     0.001  &         0.999        &       -5.374    &        5.379     \\\\\n",
       "\\textbf{ma.L11} &       0.2314  &        3.272     &     0.071  &         0.944        &       -6.182    &        6.645     \\\\\n",
       "\\textbf{ma.L12} &      -0.1319  &        2.622     &    -0.050  &         0.960        &       -5.271    &        5.007     \\\\\n",
       "\\textbf{sigma2} &    7.268e+08  &     1.35e-07     &  5.38e+15  &         0.000        &     7.27e+08    &     7.27e+08     \\\\\n",
       "\\bottomrule\n",
       "\\end{tabular}\n",
       "\\begin{tabular}{lclc}\n",
       "\\textbf{Ljung-Box (L1) (Q):}     & 0.07 & \\textbf{  Jarque-Bera (JB):  } & 1.08  \\\\\n",
       "\\textbf{Prob(Q):}                & 0.80 & \\textbf{  Prob(JB):          } & 0.58  \\\\\n",
       "\\textbf{Heteroskedasticity (H):} & 0.55 & \\textbf{  Skew:              } & 0.33  \\\\\n",
       "\\textbf{Prob(H) (two-sided):}    & 0.24 & \\textbf{  Kurtosis:          } & 2.67  \\\\\n",
       "\\bottomrule\n",
       "\\end{tabular}\n",
       "%\\caption{SARIMAX Results}\n",
       "\\end{center}\n",
       "\n",
       "Warnings: \\newline\n",
       " [1] Covariance matrix calculated using the outer product of gradients (complex-step). \\newline\n",
       " [2] Covariance matrix is singular or near-singular, with condition number 2.91e+32. Standard errors may be unstable."
      ],
      "text/plain": [
       "<class 'statsmodels.iolib.summary.Summary'>\n",
       "\"\"\"\n",
       "                               SARIMAX Results                                \n",
       "==============================================================================\n",
       "Dep. Variable:                  Sales   No. Observations:                   48\n",
       "Model:               ARIMA(12, 1, 12)   Log Likelihood                -533.131\n",
       "Date:                Tue, 02 Jul 2024   AIC                           1116.263\n",
       "Time:                        11:54:46   BIC                           1162.516\n",
       "Sample:                    01-31-2015   HQIC                          1133.668\n",
       "                         - 12-31-2018                                         \n",
       "Covariance Type:                  opg                                         \n",
       "==============================================================================\n",
       "                 coef    std err          z      P>|z|      [0.025      0.975]\n",
       "------------------------------------------------------------------------------\n",
       "ar.L1          0.0852      4.588      0.019      0.985      -8.908       9.078\n",
       "ar.L2         -0.1699      3.931     -0.043      0.966      -7.875       7.535\n",
       "ar.L3          0.1021      4.552      0.022      0.982      -8.820       9.024\n",
       "ar.L4         -0.2856      3.160     -0.090      0.928      -6.479       5.908\n",
       "ar.L5          0.1236      4.126      0.030      0.976      -7.964       8.211\n",
       "ar.L6          0.1697      4.150      0.041      0.967      -7.963       8.303\n",
       "ar.L7         -0.1385      3.538     -0.039      0.969      -7.074       6.797\n",
       "ar.L8          0.1374      3.531      0.039      0.969      -6.784       7.059\n",
       "ar.L9         -0.1913      3.473     -0.055      0.956      -6.998       6.615\n",
       "ar.L10         0.1090      4.519      0.024      0.981      -8.748       8.966\n",
       "ar.L11        -0.2449      3.034     -0.081      0.936      -6.191       5.701\n",
       "ar.L12         0.5225      2.954      0.177      0.860      -5.266       6.311\n",
       "ma.L1         -0.6235      4.925     -0.127      0.899     -10.277       9.030\n",
       "ma.L2          0.1207      2.553      0.047      0.962      -4.883       5.125\n",
       "ma.L3         -0.1047      3.429     -0.031      0.976      -6.825       6.616\n",
       "ma.L4          0.1143      2.503      0.046      0.964      -4.792       5.020\n",
       "ma.L5         -0.3837      3.443     -0.111      0.911      -7.132       6.365\n",
       "ma.L6         -0.0797      2.927     -0.027      0.978      -5.817       5.658\n",
       "ma.L7          0.1271      1.898      0.067      0.947      -3.593       3.847\n",
       "ma.L8         -0.0298      2.695     -0.011      0.991      -5.311       5.251\n",
       "ma.L9          0.0173      4.213      0.004      0.997      -8.241       8.275\n",
       "ma.L10         0.0026      2.743      0.001      0.999      -5.374       5.379\n",
       "ma.L11         0.2314      3.272      0.071      0.944      -6.182       6.645\n",
       "ma.L12        -0.1319      2.622     -0.050      0.960      -5.271       5.007\n",
       "sigma2      7.268e+08   1.35e-07   5.38e+15      0.000    7.27e+08    7.27e+08\n",
       "===================================================================================\n",
       "Ljung-Box (L1) (Q):                   0.07   Jarque-Bera (JB):                 1.08\n",
       "Prob(Q):                              0.80   Prob(JB):                         0.58\n",
       "Heteroskedasticity (H):               0.55   Skew:                             0.33\n",
       "Prob(H) (two-sided):                  0.24   Kurtosis:                         2.67\n",
       "===================================================================================\n",
       "\n",
       "Warnings:\n",
       "[1] Covariance matrix calculated using the outer product of gradients (complex-step).\n",
       "[2] Covariance matrix is singular or near-singular, with condition number 2.91e+32. Standard errors may be unstable.\n",
       "\"\"\""
      ]
     },
     "execution_count": 105,
     "metadata": {},
     "output_type": "execute_result"
    }
   ],
   "source": [
    "model_fit.summary()"
   ]
  },
  {
   "cell_type": "code",
   "execution_count": 106,
   "id": "251625d4",
   "metadata": {},
   "outputs": [
    {
     "data": {
      "text/plain": [
       "Order Date\n",
       "2018-03-31     57684.0488\n",
       "2018-04-30     35038.6901\n",
       "2018-05-31     43690.5202\n",
       "2018-06-30     47521.9477\n",
       "2018-07-31     44825.1040\n",
       "2018-08-31     62824.0880\n",
       "2018-09-30     84726.3170\n",
       "2018-10-31     77448.1312\n",
       "2018-11-30    117666.8110\n",
       "2018-12-31     82518.5458\n",
       "Freq: M, Name: Sales, dtype: float64"
      ]
     },
     "execution_count": 106,
     "metadata": {},
     "output_type": "execute_result"
    }
   ],
   "source": [
    "df_Monthly_Sales.tail(10)\n"
   ]
  },
  {
   "cell_type": "code",
   "execution_count": 107,
   "id": "1a6f692c",
   "metadata": {},
   "outputs": [],
   "source": [
    "df_Monthly_Sales=df_Monthly_Sales.to_frame()\n",
    "# df_Monthly_Sales.to_frame()  wrong way"
   ]
  },
  {
   "cell_type": "code",
   "execution_count": 108,
   "id": "ed223f8e",
   "metadata": {},
   "outputs": [
    {
     "name": "stdout",
     "output_type": "stream",
     "text": [
      "<class 'pandas.core.frame.DataFrame'>\n",
      "DatetimeIndex: 48 entries, 2015-01-31 to 2018-12-31\n",
      "Freq: M\n",
      "Data columns (total 1 columns):\n",
      " #   Column  Non-Null Count  Dtype  \n",
      "---  ------  --------------  -----  \n",
      " 0   Sales   48 non-null     float64\n",
      "dtypes: float64(1)\n",
      "memory usage: 768.0 bytes\n"
     ]
    }
   ],
   "source": [
    "df_Monthly_Sales.info()"
   ]
  },
  {
   "cell_type": "code",
   "execution_count": 109,
   "id": "a79ad3ec",
   "metadata": {},
   "outputs": [
    {
     "data": {
      "text/plain": [
       "<Axes: xlabel='Order Date'>"
      ]
     },
     "execution_count": 109,
     "metadata": {},
     "output_type": "execute_result"
    },
    {
     "data": {
      "image/png": "[encoded data removed]",
      "text/plain": [
       "<Figure size 1200x800 with 1 Axes>"
      ]
     },
     "metadata": {},
     "output_type": "display_data"
    }
   ],
   "source": [
    "df_Monthly_Sales['forecast']=model_fit.predict(start=40,end=47,dynamic=True)\n",
    "# df_Monthly_Sales['forecast'].plot(figsize=(12,8))\n",
    "df_Monthly_Sales[['Sales','forecast']].plot(figsize=(12,8))"
   ]
  },
  {
   "cell_type": "code",
   "execution_count": 113,
   "id": "c692c9ee",
   "metadata": {
    "scrolled": true
   },
   "outputs": [],
   "source": [
    "import statsmodels.api as sm          "
   ]
  },
  {
   "cell_type": "code",
   "execution_count": 122,
   "id": "060590eb",
   "metadata": {},
   "outputs": [
    {
     "name": "stderr",
     "output_type": "stream",
     "text": [
      "C:\\Users\\wei\\anaconda3\\lib\\site-packages\\statsmodels\\tsa\\statespace\\sarimax.py:866: UserWarning: Too few observations to estimate starting parameters for ARMA and trend. All parameters except for variances will be set to zeros.\n",
      "  warn('Too few observations to estimate starting parameters%s.'\n",
      "C:\\Users\\wei\\anaconda3\\lib\\site-packages\\statsmodels\\tsa\\statespace\\sarimax.py:866: UserWarning: Too few observations to estimate starting parameters for seasonal ARMA. All parameters except for variances will be set to zeros.\n",
      "  warn('Too few observations to estimate starting parameters%s.'\n",
      "C:\\Users\\wei\\anaconda3\\lib\\site-packages\\statsmodels\\base\\model.py:607: ConvergenceWarning: Maximum Likelihood optimization failed to converge. Check mle_retvals\n",
      "  warnings.warn(\"Maximum Likelihood optimization failed to \"\n"
     ]
    }
   ],
   "source": [
    "model=sm.tsa.statespace.SARIMAX(df_Monthly_Sales['Sales'],order=(12, 1, 12),seasonal_order=(12,1,12,13))\n",
    "results=model.fit()"
   ]
  },
  {
   "cell_type": "code",
   "execution_count": 123,
   "id": "5e33fa09",
   "metadata": {},
   "outputs": [],
   "source": [
    "#predicting from index 40 to 47\n",
    "df_Monthly_Sales['forecast']=results.predict(start=40,end=47,dynamic=True)\n"
   ]
  },
  {
   "cell_type": "code",
   "execution_count": 124,
   "id": "7247c22c",
   "metadata": {},
   "outputs": [
    {
     "data": {
      "text/plain": [
       "<Axes: xlabel='Order Date'>"
      ]
     },
     "execution_count": 124,
     "metadata": {},
     "output_type": "execute_result"
    },
    {
     "data": {
      "image/png": "[encoded data removed]",
      "text/plain": [
       "<Figure size 1200x800 with 1 Axes>"
      ]
     },
     "metadata": {},
     "output_type": "display_data"
    }
   ],
   "source": [
    "#blue line is original data anf orange is a forecasted data\n",
    "df_Monthly_Sales[['Sales','forecast']].plot(figsize=(12,8))"
   ]
  }
 ],
 "metadata": {
  "kernelspec": {
   "display_name": "Python 3 (ipykernel)",
   "language": "python",
   "name": "python3"
  },
  "language_info": {
   "codemirror_mode": {
    "name": "ipython",
    "version": 3
   },
   "file_extension": ".py",
   "mimetype": "text/x-python",
   "name": "python",
   "nbconvert_exporter": "python",
   "pygments_lexer": "ipython3",
   "version": "3.10.9"
  }
 },
 "nbformat": 4,
 "nbformat_minor": 5
}
